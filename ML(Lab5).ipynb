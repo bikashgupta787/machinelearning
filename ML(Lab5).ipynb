{
  "nbformat": 4,
  "nbformat_minor": 0,
  "metadata": {
    "colab": {
      "name": "ML(Lab5).ipynb",
      "provenance": []
    },
    "kernelspec": {
      "name": "python3",
      "display_name": "Python 3"
    },
    "language_info": {
      "name": "python"
    }
  },
  "cells": [
    {
      "cell_type": "code",
      "execution_count": null,
      "metadata": {
        "id": "OP9YGZDCFaqE"
      },
      "outputs": [],
      "source": [
        "# Importing the libraries  \n",
        "import numpy as nm  \n",
        "import matplotlib.pyplot as ply  \n",
        "import pandas as pd "
      ]
    },
    {
      "cell_type": "code",
      "source": [
        "#importing dataset\n",
        "data = pd.read_csv(\"day_wise.csv\")"
      ],
      "metadata": {
        "id": "5J2RCzhQF4hJ"
      },
      "execution_count": null,
      "outputs": []
    },
    {
      "cell_type": "code",
      "source": [
        "data.head()"
      ],
      "metadata": {
        "colab": {
          "base_uri": "https://localhost:8080/",
          "height": 206
        },
        "id": "aRYADnnNF-uX",
        "outputId": "d6bc82be-4e6f-4dbf-f990-730e2ff130df"
      },
      "execution_count": null,
      "outputs": [
        {
          "output_type": "execute_result",
          "data": {
            "text/plain": [
              "        Date  Confirmed  Deaths  Recovered  Active  New cases  New deaths  \\\n",
              "0  1/22/2020        555      17         28     510          0           0   \n",
              "1  1/23/2020        654      18         30     606         99           1   \n",
              "2  1/24/2020        941      26         36     879        287           8   \n",
              "3  1/25/2020       1434      42         39    1353        493          16   \n",
              "4  1/26/2020       2118      56         52    2010        684          14   \n",
              "\n",
              "   New recovered  Deaths / 100 Cases  Recovered / 100 Cases  \\\n",
              "0              0                3.06                   5.05   \n",
              "1              2                2.75                   4.59   \n",
              "2              6                2.76                   3.83   \n",
              "3              3                2.93                   2.72   \n",
              "4             13                2.64                   2.46   \n",
              "\n",
              "   Deaths / 100 Recovered  No. of countries  \n",
              "0                   60.71                 6  \n",
              "1                   60.00                 8  \n",
              "2                   72.22                 9  \n",
              "3                  107.69                11  \n",
              "4                  107.69                13  "
            ],
            "text/html": [
              "\n",
              "  <div id=\"df-aacd00d9-6ac0-425c-8923-36ab6c3dc3c3\">\n",
              "    <div class=\"colab-df-container\">\n",
              "      <div>\n",
              "<style scoped>\n",
              "    .dataframe tbody tr th:only-of-type {\n",
              "        vertical-align: middle;\n",
              "    }\n",
              "\n",
              "    .dataframe tbody tr th {\n",
              "        vertical-align: top;\n",
              "    }\n",
              "\n",
              "    .dataframe thead th {\n",
              "        text-align: right;\n",
              "    }\n",
              "</style>\n",
              "<table border=\"1\" class=\"dataframe\">\n",
              "  <thead>\n",
              "    <tr style=\"text-align: right;\">\n",
              "      <th></th>\n",
              "      <th>Date</th>\n",
              "      <th>Confirmed</th>\n",
              "      <th>Deaths</th>\n",
              "      <th>Recovered</th>\n",
              "      <th>Active</th>\n",
              "      <th>New cases</th>\n",
              "      <th>New deaths</th>\n",
              "      <th>New recovered</th>\n",
              "      <th>Deaths / 100 Cases</th>\n",
              "      <th>Recovered / 100 Cases</th>\n",
              "      <th>Deaths / 100 Recovered</th>\n",
              "      <th>No. of countries</th>\n",
              "    </tr>\n",
              "  </thead>\n",
              "  <tbody>\n",
              "    <tr>\n",
              "      <th>0</th>\n",
              "      <td>1/22/2020</td>\n",
              "      <td>555</td>\n",
              "      <td>17</td>\n",
              "      <td>28</td>\n",
              "      <td>510</td>\n",
              "      <td>0</td>\n",
              "      <td>0</td>\n",
              "      <td>0</td>\n",
              "      <td>3.06</td>\n",
              "      <td>5.05</td>\n",
              "      <td>60.71</td>\n",
              "      <td>6</td>\n",
              "    </tr>\n",
              "    <tr>\n",
              "      <th>1</th>\n",
              "      <td>1/23/2020</td>\n",
              "      <td>654</td>\n",
              "      <td>18</td>\n",
              "      <td>30</td>\n",
              "      <td>606</td>\n",
              "      <td>99</td>\n",
              "      <td>1</td>\n",
              "      <td>2</td>\n",
              "      <td>2.75</td>\n",
              "      <td>4.59</td>\n",
              "      <td>60.00</td>\n",
              "      <td>8</td>\n",
              "    </tr>\n",
              "    <tr>\n",
              "      <th>2</th>\n",
              "      <td>1/24/2020</td>\n",
              "      <td>941</td>\n",
              "      <td>26</td>\n",
              "      <td>36</td>\n",
              "      <td>879</td>\n",
              "      <td>287</td>\n",
              "      <td>8</td>\n",
              "      <td>6</td>\n",
              "      <td>2.76</td>\n",
              "      <td>3.83</td>\n",
              "      <td>72.22</td>\n",
              "      <td>9</td>\n",
              "    </tr>\n",
              "    <tr>\n",
              "      <th>3</th>\n",
              "      <td>1/25/2020</td>\n",
              "      <td>1434</td>\n",
              "      <td>42</td>\n",
              "      <td>39</td>\n",
              "      <td>1353</td>\n",
              "      <td>493</td>\n",
              "      <td>16</td>\n",
              "      <td>3</td>\n",
              "      <td>2.93</td>\n",
              "      <td>2.72</td>\n",
              "      <td>107.69</td>\n",
              "      <td>11</td>\n",
              "    </tr>\n",
              "    <tr>\n",
              "      <th>4</th>\n",
              "      <td>1/26/2020</td>\n",
              "      <td>2118</td>\n",
              "      <td>56</td>\n",
              "      <td>52</td>\n",
              "      <td>2010</td>\n",
              "      <td>684</td>\n",
              "      <td>14</td>\n",
              "      <td>13</td>\n",
              "      <td>2.64</td>\n",
              "      <td>2.46</td>\n",
              "      <td>107.69</td>\n",
              "      <td>13</td>\n",
              "    </tr>\n",
              "  </tbody>\n",
              "</table>\n",
              "</div>\n",
              "      <button class=\"colab-df-convert\" onclick=\"convertToInteractive('df-aacd00d9-6ac0-425c-8923-36ab6c3dc3c3')\"\n",
              "              title=\"Convert this dataframe to an interactive table.\"\n",
              "              style=\"display:none;\">\n",
              "        \n",
              "  <svg xmlns=\"http://www.w3.org/2000/svg\" height=\"24px\"viewBox=\"0 0 24 24\"\n",
              "       width=\"24px\">\n",
              "    <path d=\"M0 0h24v24H0V0z\" fill=\"none\"/>\n",
              "    <path d=\"M18.56 5.44l.94 2.06.94-2.06 2.06-.94-2.06-.94-.94-2.06-.94 2.06-2.06.94zm-11 1L8.5 8.5l.94-2.06 2.06-.94-2.06-.94L8.5 2.5l-.94 2.06-2.06.94zm10 10l.94 2.06.94-2.06 2.06-.94-2.06-.94-.94-2.06-.94 2.06-2.06.94z\"/><path d=\"M17.41 7.96l-1.37-1.37c-.4-.4-.92-.59-1.43-.59-.52 0-1.04.2-1.43.59L10.3 9.45l-7.72 7.72c-.78.78-.78 2.05 0 2.83L4 21.41c.39.39.9.59 1.41.59.51 0 1.02-.2 1.41-.59l7.78-7.78 2.81-2.81c.8-.78.8-2.07 0-2.86zM5.41 20L4 18.59l7.72-7.72 1.47 1.35L5.41 20z\"/>\n",
              "  </svg>\n",
              "      </button>\n",
              "      \n",
              "  <style>\n",
              "    .colab-df-container {\n",
              "      display:flex;\n",
              "      flex-wrap:wrap;\n",
              "      gap: 12px;\n",
              "    }\n",
              "\n",
              "    .colab-df-convert {\n",
              "      background-color: #E8F0FE;\n",
              "      border: none;\n",
              "      border-radius: 50%;\n",
              "      cursor: pointer;\n",
              "      display: none;\n",
              "      fill: #1967D2;\n",
              "      height: 32px;\n",
              "      padding: 0 0 0 0;\n",
              "      width: 32px;\n",
              "    }\n",
              "\n",
              "    .colab-df-convert:hover {\n",
              "      background-color: #E2EBFA;\n",
              "      box-shadow: 0px 1px 2px rgba(60, 64, 67, 0.3), 0px 1px 3px 1px rgba(60, 64, 67, 0.15);\n",
              "      fill: #174EA6;\n",
              "    }\n",
              "\n",
              "    [theme=dark] .colab-df-convert {\n",
              "      background-color: #3B4455;\n",
              "      fill: #D2E3FC;\n",
              "    }\n",
              "\n",
              "    [theme=dark] .colab-df-convert:hover {\n",
              "      background-color: #434B5C;\n",
              "      box-shadow: 0px 1px 3px 1px rgba(0, 0, 0, 0.15);\n",
              "      filter: drop-shadow(0px 1px 2px rgba(0, 0, 0, 0.3));\n",
              "      fill: #FFFFFF;\n",
              "    }\n",
              "  </style>\n",
              "\n",
              "      <script>\n",
              "        const buttonEl =\n",
              "          document.querySelector('#df-aacd00d9-6ac0-425c-8923-36ab6c3dc3c3 button.colab-df-convert');\n",
              "        buttonEl.style.display =\n",
              "          google.colab.kernel.accessAllowed ? 'block' : 'none';\n",
              "\n",
              "        async function convertToInteractive(key) {\n",
              "          const element = document.querySelector('#df-aacd00d9-6ac0-425c-8923-36ab6c3dc3c3');\n",
              "          const dataTable =\n",
              "            await google.colab.kernel.invokeFunction('convertToInteractive',\n",
              "                                                     [key], {});\n",
              "          if (!dataTable) return;\n",
              "\n",
              "          const docLinkHtml = 'Like what you see? Visit the ' +\n",
              "            '<a target=\"_blank\" href=https://colab.research.google.com/notebooks/data_table.ipynb>data table notebook</a>'\n",
              "            + ' to learn more about interactive tables.';\n",
              "          element.innerHTML = '';\n",
              "          dataTable['output_type'] = 'display_data';\n",
              "          await google.colab.output.renderOutput(dataTable, element);\n",
              "          const docLink = document.createElement('div');\n",
              "          docLink.innerHTML = docLinkHtml;\n",
              "          element.appendChild(docLink);\n",
              "        }\n",
              "      </script>\n",
              "    </div>\n",
              "  </div>\n",
              "  "
            ]
          },
          "metadata": {},
          "execution_count": 3
        }
      ]
    },
    {
      "cell_type": "code",
      "source": [
        "df = data.dropna()"
      ],
      "metadata": {
        "id": "stSlzDKtGBUX"
      },
      "execution_count": null,
      "outputs": []
    },
    {
      "cell_type": "code",
      "source": [
        "x = df.loc[:,['Active','Deaths']].values"
      ],
      "metadata": {
        "id": "Poh3yKLzGGHf"
      },
      "execution_count": null,
      "outputs": []
    },
    {
      "cell_type": "code",
      "source": [
        "print(x)"
      ],
      "metadata": {
        "colab": {
          "base_uri": "https://localhost:8080/"
        },
        "id": "6moviUvHGPwh",
        "outputId": "78fd7d9b-8b6c-4f23-eef7-517f2e278a4d"
      },
      "execution_count": null,
      "outputs": [
        {
          "output_type": "stream",
          "name": "stdout",
          "text": [
            "[[    510      17]\n",
            " [    606      18]\n",
            " [    879      26]\n",
            " [   1353      42]\n",
            " [   2010      56]\n",
            " [   2784      82]\n",
            " [   5340     131]\n",
            " [   5908     133]\n",
            " [   7922     171]\n",
            " [   9495     213]\n",
            " [  11498     259]\n",
            " [  15966     362]\n",
            " [  18857     426]\n",
            " [  22585     492]\n",
            " [  26008     564]\n",
            " [  28750     634]\n",
            " [  31712     719]\n",
            " [  33792     806]\n",
            " [  36132     906]\n",
            " [  37906    1013]\n",
            " [  39145    1113]\n",
            " [  40594    1118]\n",
            " [  52905    1371]\n",
            " [  57554    1523]\n",
            " [  58197    1666]\n",
            " [  58790    1770]\n",
            " [  58996    1868]\n",
            " [  58908    2008]\n",
            " [  57513    2123]\n",
            " [  55962    2246]\n",
            " [  55990    2250]\n",
            " [  53661    2457]\n",
            " [  53519    2467]\n",
            " [  52180    2627]\n",
            " [  50348    2707]\n",
            " [  48826    2767]\n",
            " [  47305    2810]\n",
            " [  45238    2867]\n",
            " [  44056    2936]\n",
            " [  43492    2990]\n",
            " [  42500    3079]\n",
            " [  42406    3154]\n",
            " [  41672    3249]\n",
            " [  41752    3342]\n",
            " [  43550    3454]\n",
            " [  44999    3553]\n",
            " [  46377    3797]\n",
            " [  48294    3981]\n",
            " [  51128    4260]\n",
            " [  56136    4604]\n",
            " [  60260    4909]\n",
            " [  72243    5406]\n",
            " [  80562    5823]\n",
            " [  87657    6464]\n",
            " [  99583    7144]\n",
            " [ 111865    7948]\n",
            " [ 128071    8845]\n",
            " [ 153246    9951]\n",
            " [ 178931   11429]\n",
            " [ 205266   13134]\n",
            " [ 230764   14831]\n",
            " [ 270546   16748]\n",
            " [ 299876   19016]\n",
            " [ 342468   21793]\n",
            " [ 394062   24800]\n",
            " [ 446240   28318]\n",
            " [ 501926   31997]\n",
            " [ 548569   35470]\n",
            " [ 593598   39634]\n",
            " [ 652803   44478]\n",
            " [ 708106   50029]\n",
            " [ 766582   56334]\n",
            " [ 828744   62319]\n",
            " [ 883354   68160]\n",
            " [ 936646   73181]\n",
            " [ 987151   79013]\n",
            " [1033269   86915]\n",
            " [1081957   93650]\n",
            " [1136621  101279]\n",
            " [1195879  108551]\n",
            " [1241261  114620]\n",
            " [1313438  120351]\n",
            " [1350754  126098]\n",
            " [1389164  132996]\n",
            " [1425770  141308]\n",
            " [1485109  148591]\n",
            " [1538671  157481]\n",
            " [1582655  163952]\n",
            " [1627840  168522]\n",
            " [1674431  173965]\n",
            " [1708343  181122]\n",
            " [1749230  187877]\n",
            " [1802911  194727]\n",
            " [1833537  201401]\n",
            " [1885981  206979]\n",
            " [1927315  210862]\n",
            " [1964957  215511]\n",
            " [2001495  221974]\n",
            " [2030701  228742]\n",
            " [2044556  234704]\n",
            " [2089540  239881]\n",
            " [2126040  245206]\n",
            " [2169008  248659]\n",
            " [2208008  252787]\n",
            " [2246497  258658]\n",
            " [2285111  265327]\n",
            " [2330371  270736]\n",
            " [2380782  276304]\n",
            " [2409845  280569]\n",
            " [2449784  284135]\n",
            " [2476456  287608]\n",
            " [2518521  293155]\n",
            " [2543331  298383]\n",
            " [2596361  303651]\n",
            " [2640327  308866]\n",
            " [2675902  313037]\n",
            " [2710929  316366]\n",
            " [2743712  319657]\n",
            " [2784005  324441]\n",
            " [2823963  329326]\n",
            " [2875184  334112]\n",
            " [2869027  339396]\n",
            " [2916066  343385]\n",
            " [2953499  346525]\n",
            " [2976234  347703]\n",
            " [3010040  351906]\n",
            " [3044932  357119]\n",
            " [3093412  361820]\n",
            " [3133456  366562]\n",
            " [3197279  370718]\n",
            " [3226335  373606]\n",
            " [3264452  376674]\n",
            " [3276956  381497]\n",
            " [3312425  387069]\n",
            " [3364867  392218]\n",
            " [3422693  396994]\n",
            " [3483577  400875]\n",
            " [3538590  403617]\n",
            " [3486196  407314]\n",
            " [3524135  412236]\n",
            " [3574922  417441]\n",
            " [3623295  422215]\n",
            " [3669280  426512]\n",
            " [3715937  430750]\n",
            " [3776026  434124]\n",
            " [3812839  437549]\n",
            " [3849981  444416]\n",
            " [3869178  449671]\n",
            " [3923452  454700]\n",
            " [4003513  460973]\n",
            " [4041511  465222]\n",
            " [4097815  469185]\n",
            " [4140884  472756]\n",
            " [4197308  478067]\n",
            " [4247921  483328]\n",
            " [4326728  489955]\n",
            " [4406931  494782]\n",
            " [4474521  499268]\n",
            " [4544278  502357]\n",
            " [4605227  506078]\n",
            " [4657028  511210]\n",
            " [4754082  516221]\n",
            " [4672273  521341]\n",
            " [4761307  526336]\n",
            " [4755072  530705]\n",
            " [4815151  534150]\n",
            " [4855475  537947]\n",
            " [4915467  544054]\n",
            " [4964447  549373]\n",
            " [5052995  554831]\n",
            " [5141244  560142]\n",
            " [5227218  565039]\n",
            " [5304469  568993]\n",
            " [5353468  572808]\n",
            " [5427502  578468]\n",
            " [5493703  583961]\n",
            " [5588524  589760]\n",
            " [5664300  596503]\n",
            " [5745518  602130]\n",
            " [5868451  606159]\n",
            " [5912527  610319]\n",
            " [5965535  616557]\n",
            " [6062930  623540]\n",
            " [6166006  633506]\n",
            " [6212290  639650]\n",
            " [6243930  644517]\n",
            " [6309711  648621]\n",
            " [6358362  654036]]\n"
          ]
        }
      ]
    },
    {
      "cell_type": "code",
      "source": [
        "import scipy.cluster.hierarchy as sch\n",
        "dendo = sch.dendrogram(sch.linkage(x, method = 'ward'))\n",
        "\n",
        "ply.title(\"Dendrogram Plot\")\n",
        "ply.ylabel(\"Euclidean Distances\")\n",
        "ply.xlabel(\"status\")\n",
        "ply.show()"
      ],
      "metadata": {
        "colab": {
          "base_uri": "https://localhost:8080/",
          "height": 295
        },
        "id": "J6yW074TGQTq",
        "outputId": "5c1cc534-8d9b-46f4-ce76-9092881b85bd"
      },
      "execution_count": null,
      "outputs": [
        {
          "output_type": "display_data",
          "data": {
            "text/plain": [
              "<Figure size 432x288 with 1 Axes>"
            ],
            "image/png": "[encoded data removed]"
          },
          "metadata": {
            "needs_background": "light"
          }
        }
      ]
    },
    {
      "cell_type": "markdown",
      "source": [
        "In the above diagram, we see that the vertical distances that are not cutting their horizontal bars. According to this, the number of clusters will be 6(the vertical lines in this range).\n",
        "\n",
        "So, the optimal number of clusters will be 6, and we will train the model in the next step, using the same."
      ],
      "metadata": {
        "id": "Y5R2U00pG0aY"
      }
    },
    {
      "cell_type": "code",
      "source": [
        "from scipy.spatial.distance import euclidean\n",
        "#training the hierarchical model on dataset\n",
        "from sklearn.cluster import AgglomerativeClustering\n",
        "\n",
        "hc = AgglomerativeClustering(n_clusters= 3, affinity=\"euclidean\", linkage = \"ward\")"
      ],
      "metadata": {
        "id": "9zCTmOy7G_Yg"
      },
      "execution_count": null,
      "outputs": []
    },
    {
      "cell_type": "code",
      "source": [
        "y_pred =  hc.fit_predict(x)"
      ],
      "metadata": {
        "id": "KWFcTdLZHvsn"
      },
      "execution_count": null,
      "outputs": []
    },
    {
      "cell_type": "markdown",
      "source": [
        "The AgglomerativeClustering class takes the following parameters:\n",
        "\n",
        "n_clusters=6: It defines the number of clusters, and we have taken here 5 because it is the optimal number of clusters.\n",
        "\n",
        "affinity='euclidean': It is a metric used to compute the linkage.\n",
        "\n",
        "linkage='ward': It defines the linkage criteria, here we have used the \"ward\" linkage. This method is the popular linkage method that we have already used for creating the Dendrogram. It reduces the variance in each cluster.\n",
        "\n",
        "In the last line, we have created the dependent variable y_pred to fit or train the model. It does train not only the model but also returns the clusters to which each data point belongs."
      ],
      "metadata": {
        "id": "hf40US_oH0G1"
      }
    },
    {
      "cell_type": "code",
      "source": [
        "print(y_pred)"
      ],
      "metadata": {
        "colab": {
          "base_uri": "https://localhost:8080/"
        },
        "id": "Uh2FfGH9HwNe",
        "outputId": "84e5e3c9-0a34-45ce-9f3d-41be148c9bda"
      },
      "execution_count": null,
      "outputs": [
        {
          "output_type": "stream",
          "name": "stdout",
          "text": [
            "[1 1 1 1 1 1 1 1 1 1 1 1 1 1 1 1 1 1 1 1 1 1 1 1 1 1 1 1 1 1 1 1 1 1 1 1 1\n",
            " 1 1 1 1 1 1 1 1 1 1 1 1 1 1 1 1 1 1 1 1 1 1 1 1 1 1 1 1 1 1 1 1 1 1 1 1 1\n",
            " 1 1 1 1 1 1 1 1 1 1 1 1 1 1 1 1 1 1 0 0 0 0 0 0 0 0 0 0 0 0 0 0 0 0 0 0 0\n",
            " 0 0 0 0 0 0 0 0 0 0 0 0 0 0 0 0 0 0 0 0 0 0 0 0 0 0 0 0 0 0 0 0 0 0 0 0 0\n",
            " 0 0 0 0 0 0 0 0 0 0 2 2 2 2 2 2 2 2 2 2 2 2 2 2 2 2 2 2 2 2 2 2 2 2 2 2 2\n",
            " 2 2 2]\n"
          ]
        }
      ]
    },
    {
      "cell_type": "markdown",
      "source": [
        "The y_pred shows the clusters value, which means the player id 1 belongs to the 4th cluster (as indexing starts from 0, so 3 means 4th cluster), the player id 4 belongs to 2nd cluster, and so on."
      ],
      "metadata": {
        "id": "sJ8hfs9pH_r_"
      }
    },
    {
      "cell_type": "code",
      "source": [
        "#visulaizing the clusters  \n",
        "ply.scatter(x[y_pred == 0, 0], x[y_pred == 0, 1], s = 100, c = 'blue', label = 'Cluster 1')  \n",
        "ply.scatter(x[y_pred == 1, 0], x[y_pred == 1, 1], s = 100, c = 'green', label = 'Cluster 2')  \n",
        "ply.scatter(x[y_pred== 2, 0], x[y_pred == 2, 1], s = 100, c = 'red', label = 'Cluster 3')  \n",
        "ply.title('Clusters of covid stats')  \n",
        "ply.xlabel('country')  \n",
        "ply.ylabel('cases')  \n",
        "ply.legend()  \n",
        "ply.show()  "
      ],
      "metadata": {
        "colab": {
          "base_uri": "https://localhost:8080/",
          "height": 295
        },
        "id": "tML-TpknH3pB",
        "outputId": "3a910e52-020a-49d9-ab5e-882b0ee5f131"
      },
      "execution_count": null,
      "outputs": [
        {
          "output_type": "display_data",
          "data": {
            "text/plain": [
              "<Figure size 432x288 with 1 Axes>"
            ],
            "image/png": "[encoded data removed]"
          },
          "metadata": {
            "needs_background": "light"
          }
        }
      ]
    }
  ]
}